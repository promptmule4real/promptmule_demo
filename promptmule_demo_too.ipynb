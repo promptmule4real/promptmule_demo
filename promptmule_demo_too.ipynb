{
  "cells": [
    {
      "cell_type": "markdown",
      "metadata": {
        "id": "view-in-github",
        "colab_type": "text"
      },
      "source": [
        "<a href=\"https://colab.research.google.com/github/promptmule4real/promptmule_demo/blob/main/promptmule_demo_too.ipynb\" target=\"_parent\"><img src=\"https://colab.research.google.com/assets/colab-badge.svg\" alt=\"Open In Colab\"/></a>"
      ]
    },
    {
      "cell_type": "markdown",
      "id": "d3be10bd",
      "metadata": {
        "id": "d3be10bd"
      },
      "source": [
        "# PromptMule API Demo Suite v1\n",
        "\n",
        "Welcome to the PromptMule API Demo Suite! This interactive tool is designed to streamline your experience with the PromptMule API, allowing you to explore various features, such as generating dynamic prompts, assessing semantic response scores, and observing your token usage efficiency through our advanced caching mechanisms.\n",
        "\n",
        "## Getting Started\n",
        "\n",
        "Before running the script, please ensure that you have an API key from PromptMule. If you do not have one, please sign up at [PromptMule](https://www.promptmule.com) and obtain your key.\n",
        "\n",
        "## Features\n",
        "\n",
        "- Securely authenticate with your API key for seamless API interactions.\n",
        "- Dynamically create and dispatch a series of prompts to the API, experimenting with various semantic similarities and response limits.\n",
        "- Monitor detailed logs of each API interaction for in-depth analysis.\n",
        "- Compile comprehensive reports showcasing prompt responses, token utilization, and cache-enabled savings.\n",
        "- List previously sent prompts and their responses.\n"
      ]
    },
    {
      "cell_type": "markdown",
      "id": "d70a21a9",
      "metadata": {
        "id": "d70a21a9"
      },
      "source": [
        "# Introduction to PromptMule API\n",
        "\n",
        "This Python notebook demonstrates how to integrate and interact with the PromptMule API using Python. The PromptMule API, leveraging the capabilities of GPT-3.5, enables users to generate text-based responses for given prompts. The notebook is structured to provide a comprehensive workflow, including library imports, function definitions, and a user interface for ease of use.\n",
        "\n",
        "### Libraries and Constants\n",
        "- **Required Libraries**: The code begins by importing necessary Python libraries such as `requests` for HTTP requests, `json` for JSON manipulation, and `ipywidgets` along with `IPython.display` for creating an interactive user interface.\n",
        "- **Constants**: It defines `BASE_URL` and `PROMPT_ENDPOINT` constants to standardize the API endpoint for sending prompts.\n",
        "\n",
        "### Core Functionality\n",
        "- **Function Definition**: The function `send_prompt` is defined to handle communication with the PromptMule API. It takes various parameters like `api_key`, `prompt`, `max_tokens`, and others, forming a request with appropriate headers and payload.\n",
        "- **Verbose Option**: A verbose mode is included for debugging purposes, allowing users to see detailed request and response data.\n",
        "\n",
        "### User Interface\n",
        "- **Widgets Setup**: The notebook employs `ipywidgets` to create a simple yet effective graphical user interface (GUI). This includes text input for the API key and prompt, a button to send the prompt, a checkbox for verbose mode, and an output area to display results.\n",
        "- **Event Handling**: An event handler `on_send_clicked` is defined and linked to the 'Send Prompt' button. This function captures input from the GUI, calls `send_prompt`, and displays the response.\n",
        "\n",
        "### Execution Flow\n",
        "- **Display UI**: Finally, the UI elements are displayed in a structured layout. The user can enter their API key, type a prompt, choose to enable verbose mode, and send the prompt to the PromptMule API. The response, once received, is displayed in the output area.\n",
        "\n",
        "This notebook serves as an efficient tool for developers and enthusiasts to experiment with AI-powered text generation, offering both ease of use and customizability."
      ]
    },
    {
      "cell_type": "code",
      "execution_count": null,
      "id": "9d613397",
      "metadata": {
        "id": "9d613397"
      },
      "outputs": [],
      "source": [
        "# Required Libraries\n",
        "import requests\n",
        "import json\n",
        "import ipywidgets as widgets\n",
        "from IPython.display import display\n",
        "\n",
        "# Constants\n",
        "BASE_URL = 'https://api.promptmule.com/'\n",
        "PROMPT_ENDPOINT = 'prompt'\n",
        "HISTORY_ENDPOINT = 'prompt/history'\n",
        "\n",
        "# Function to send prompt requests to the PromptMule API\n",
        "def send_prompt(api_key, prompt, max_tokens=100, temperature=0, semantic=0.95, sem_num=2, verbose=False):\n",
        "    headers = {\n",
        "        'x-api-key': api_key,\n",
        "        'Content-Type': 'application/json'\n",
        "    }\n",
        "\n",
        "    data = {\n",
        "        \"model\": \"gpt-3.5-turbo\",\n",
        "        \"messages\": [{\"role\": \"user\", \"content\": prompt}],\n",
        "        \"max_tokens\": str(max_tokens),\n",
        "        \"temperature\": str(temperature),\n",
        "        \"semantic\": str(semantic),\n",
        "        \"sem_num\": str(sem_num)\n",
        "    }\n",
        "\n",
        "    if verbose:\n",
        "        print(\"[VERBOSE] Sending request with data:\", json.dumps(data, indent=4))\n",
        "\n",
        "    response = requests.post(f\"{BASE_URL}{PROMPT_ENDPOINT}\", headers=headers, json=data)\n",
        "\n",
        "    if verbose:\n",
        "        print(\"[VERBOSE] Received response:\", json.dumps(response.json(), indent=4))\n",
        "\n",
        "    return response.json()\n",
        "\n",
        "# Function to fetch the history of prompts sent by the user\n",
        "def fetch_prompt_history(api_key, verbose=False):\n",
        "    headers = {\n",
        "        'x-api-key': api_key,\n",
        "        'Content-Type': 'application/json'\n",
        "    }\n",
        "\n",
        "    if verbose:\n",
        "        print(\"[VERBOSE] Fetching prompt history\")\n",
        "\n",
        "    response = requests.get(f\"{BASE_URL}{HISTORY_ENDPOINT}\", headers=headers)\n",
        "\n",
        "    if verbose:\n",
        "        print(\"[VERBOSE] Received history response:\", json.dumps(response.json(), indent=4))\n",
        "\n",
        "    return response.json()\n",
        "\n",
        "# UI setup\n",
        "api_key_input = widgets.Text(description='API Key:')\n",
        "prompt_input = widgets.Textarea(description='Prompt:')\n",
        "send_button = widgets.Button(description='Send Prompt')\n",
        "history_button = widgets.Button(description='Fetch History')\n",
        "verbose_mode_checkbox = widgets.Checkbox(description=\"Enable Verbose Mode\")\n",
        "output_area = widgets.Output()\n",
        "\n",
        "# Action to perform on button click\n",
        "def on_send_clicked(b):\n",
        "    with output_area:\n",
        "        output_area.clear_output()\n",
        "        api_key = api_key_input.value\n",
        "        prompt = prompt_input.value\n",
        "        verbose_mode = verbose_mode_checkbox.value\n",
        "        response = send_prompt(api_key, prompt, verbose=verbose_mode)\n",
        "        print(json.dumps(response, indent=4))\n",
        "\n",
        "send_button.on_click(on_send_clicked)\n",
        "\n",
        "# Display UI with verbose mode option\n",
        "display(api_key_input, prompt_input, send_button, verbose_mode_checkbox, output_area)\n"
      ]
    },
    {
      "cell_type": "markdown",
      "id": "ab371bca",
      "metadata": {
        "id": "ab371bca"
      },
      "source": [
        "## Conclusion\n",
        "\n",
        "Thank you for exploring the PromptMule API Demo Suite. We hope this tool helps you understand the powerful capabilities of the PromptMule API and how it can enhance your generative AI applications.\n",
        "\n",
        "For more detailed information, visit the [PromptMule Documentation](https://api.promptmule.com/docs).\n",
        "\n",
        "## License\n",
        "\n",
        "This project is licensed under the MIT License - see the LICENSE.md file for details.\n"
      ]
    }
  ],
  "metadata": {
    "colab": {
      "provenance": [],
      "include_colab_link": true
    },
    "language_info": {
      "name": "python"
    },
    "kernelspec": {
      "name": "python3",
      "display_name": "Python 3"
    }
  },
  "nbformat": 4,
  "nbformat_minor": 5
}