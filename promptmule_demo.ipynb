{
  "cells": [
    {
      "cell_type": "markdown",
      "metadata": {
        "id": "view-in-github",
        "colab_type": "text"
      },
      "source": [
        "<a href=\"https://colab.research.google.com/github/promptmule4real/promptmule_demo/blob/main/promptmule_demo.ipynb\" target=\"_parent\"><img src=\"https://colab.research.google.com/assets/colab-badge.svg\" alt=\"Open In Colab\"/></a>"
      ]
    },
    {
      "cell_type": "markdown",
      "id": "6ef99b25",
      "metadata": {
        "id": "6ef99b25"
      },
      "source": [
        "# PromptMule API Demo v1.0.1\n",
        "\n",
        "Welcome to the PromptMule API Demo Suite! This interactive tool is designed to streamline your experience with the PromptMule API, allowing you to explore various features, such as generating dynamic prompts, assessing semantic response scores, and observing your token usage efficiency through our advanced caching mechanisms.\n",
        "\n",
        "## Getting Started\n",
        "\n",
        "Before running the script, please ensure that you have an API key from PromptMule. If you do not have one, please sign up at [PromptMule](https://www.promptmule.com) and obtain your key.\n",
        "\n",
        "## Features\n",
        "\n",
        "- Securely authenticate with your API key for seamless API interactions.\n",
        "- Dynamically create and dispatch a series of prompts to the API, experimenting with various semantic similarities and response limits.\n",
        "- Monitor detailed logs of each API interaction for in-depth analysis.\n",
        "- Compile comprehensive reports showcasing prompt responses, token utilization, and cache-enabled savings.\n",
        "\n",
        "December 2023"
      ]
    },
    {
      "cell_type": "markdown",
      "id": "1eae787f",
      "metadata": {
        "id": "1eae787f"
      },
      "source": [
        "## Running the Script\n",
        "\n",
        "To run the script, make sure you are in a compatible Python environment. Input your API key when prompted to authenticate your session.\n",
        "\n",
        "### User Credentials\n",
        "\n",
        "Use your API key obtained from PromptMule.com to authenticate your session.\n",
        "\n",
        "### Report Analysis\n",
        "\n",
        "Upon completion of the prompt cycles, the script presents you with an breakdown of prompt responses and a summary of your API usage statistics. It also provides insightful data reflecting the cost-efficiency achieved via caching.\n"
      ]
    },
    {
      "cell_type": "code",
      "execution_count": 6,
      "id": "790c0291",
      "metadata": {
        "colab": {
          "base_uri": "https://localhost:8080/",
          "height": 680,
          "referenced_widgets": [
            "dde1eb517ea44d218c070f2ae9699247",
            "cef6a9f41da34eef995fe598ae02bebd",
            "11a6c924d04b405f907c72a156e20aed",
            "771fc3d254b640489af22f7ddcbee3b6",
            "1a90e5bc5aa24bb8945e9b5ff0e486ee",
            "196d4d7f95554beb911c77a6a76443d8",
            "32881827c50e46e69b9651bb4d425947",
            "84bcad033ebd45baaffa10ecd7d6192c",
            "0e49bcc80aa24b79a2f4aa2daddb9391",
            "9a9e95ae20484483b9c91e5ad74d47ab",
            "e2c4136ebdc945cbb396e153d2ac9abc"
          ]
        },
        "id": "790c0291",
        "outputId": "b6de211d-b6cd-4e03-f31d-202046d1ed72"
      },
      "outputs": [
        {
          "output_type": "display_data",
          "data": {
            "text/plain": [
              "Text(value='', description='API Key:')"
            ],
            "application/vnd.jupyter.widget-view+json": {
              "version_major": 2,
              "version_minor": 0,
              "model_id": "dde1eb517ea44d218c070f2ae9699247"
            }
          },
          "metadata": {}
        },
        {
          "output_type": "display_data",
          "data": {
            "text/plain": [
              "Textarea(value='', description='Prompt:')"
            ],
            "application/vnd.jupyter.widget-view+json": {
              "version_major": 2,
              "version_minor": 0,
              "model_id": "771fc3d254b640489af22f7ddcbee3b6"
            }
          },
          "metadata": {}
        },
        {
          "output_type": "display_data",
          "data": {
            "text/plain": [
              "Button(description='Send Prompt', style=ButtonStyle())"
            ],
            "application/vnd.jupyter.widget-view+json": {
              "version_major": 2,
              "version_minor": 0,
              "model_id": "32881827c50e46e69b9651bb4d425947"
            }
          },
          "metadata": {}
        },
        {
          "output_type": "display_data",
          "data": {
            "text/plain": [
              "Output()"
            ],
            "application/vnd.jupyter.widget-view+json": {
              "version_major": 2,
              "version_minor": 0,
              "model_id": "9a9e95ae20484483b9c91e5ad74d47ab"
            }
          },
          "metadata": {}
        }
      ],
      "source": [
        "# Required Libraries\n",
        "import requests\n",
        "import json\n",
        "import time\n",
        "import ipywidgets as widgets\n",
        "from IPython.display import display\n",
        "\n",
        "# Constants\n",
        "BASE_URL = 'https://api.promptmule.com/'\n",
        "PROMPT_ENDPOINT = 'prompt'\n",
        "\n",
        "# Function to send prompt requests to the PromptMule API\n",
        "def send_prompt(api_key, prompt, max_tokens=100, temperature=0, semantic=1.0, sem_num=1):\n",
        "    headers = {\n",
        "        'x-api-key': api_key,\n",
        "        'Content-Type': 'application/json'\n",
        "    }\n",
        "\n",
        "    data = {\n",
        "        \"model\": \"gpt-3.5-turbo\",\n",
        "        \"messages\": [{\"role\": \"user\", \"content\": prompt}],\n",
        "        \"max_tokens\": str(max_tokens),  # Convert to string\n",
        "        \"temperature\": str(temperature),  # Convert to string\n",
        "        \"semantic\": str(semantic),  # Convert to string\n",
        "        \"sem_num\": str(sem_num)  # Convert to string\n",
        "    }\n",
        "\n",
        "    response = requests.post(f\"{BASE_URL}{PROMPT_ENDPOINT}\", headers=headers, json=data)\n",
        "    return response.json()\n",
        "\n",
        "# UI setup for user input\n",
        "api_key_input = widgets.Text(description='API Key:')\n",
        "prompt_input = widgets.Textarea(description='Prompt:')\n",
        "send_button = widgets.Button(description='Send Prompt')\n",
        "output_area = widgets.Output()\n",
        "\n",
        "# Action to perform on button click\n",
        "def on_send_clicked(b):\n",
        "    with output_area:\n",
        "        output_area.clear_output()\n",
        "        api_key = api_key_input.value\n",
        "        prompt = prompt_input.value\n",
        "        print(f\"Sending prompt: {prompt}\")\n",
        "        start = time.time()\n",
        "        response = send_prompt(api_key, prompt)\n",
        "        finish = time.time()\n",
        "        print(f\"Prompt response time: {finish - start} seconds\")\n",
        "        print(json.dumps(response, indent=4))\n",
        "\n",
        "send_button.on_click(on_send_clicked)\n",
        "\n",
        "# Display UI\n",
        "display(api_key_input, prompt_input, send_button, output_area)\n"
      ]
    },
    {
      "cell_type": "markdown",
      "id": "c4ef0608",
      "metadata": {
        "id": "c4ef0608"
      },
      "source": [
        "## Conclusion\n",
        "\n",
        "Thank you for exploring the PromptMule API Demo Suite. We hope this tool helps you understand the powerful capabilities of the PromptMule API and how it can enhance your generative AI applications.\n",
        "\n",
        "For more detailed information, visit the [PromptMule Documentation](https://api.promptmule.com/docs).\n",
        "\n",
        "## License\n",
        "\n",
        "This project is licensed under the MIT License - see the LICENSE.md file for details.\n"
      ]
    }
  ],
  "metadata": {
    "colab": {
      "provenance": [],
      "include_colab_link": true
    },
    "language_info": {
      "name": "python"
    },
    "kernelspec": {
      "name": "python3",
      "display_name": "Python 3"
    },
    "widgets": {
      "application/vnd.jupyter.widget-state+json": {
        "dde1eb517ea44d218c070f2ae9699247": {
          "model_module": "@jupyter-widgets/controls",
          "model_name": "TextModel",
          "model_module_version": "1.5.0",
          "state": {
            "_dom_classes": [],
            "_model_module": "@jupyter-widgets/controls",
            "_model_module_version": "1.5.0",
            "_model_name": "TextModel",
            "_view_count": null,
            "_view_module": "@jupyter-widgets/controls",
            "_view_module_version": "1.5.0",
            "_view_name": "TextView",
            "continuous_update": true,
            "description": "API Key:",
            "description_tooltip": null,
            "disabled": false,
            "layout": "IPY_MODEL_cef6a9f41da34eef995fe598ae02bebd",
            "placeholder": "​",
            "style": "IPY_MODEL_11a6c924d04b405f907c72a156e20aed",
            "value": "6VDD3H6B4Y8Aftlnm7n069JvRIkaucmOIj1YyE69"
          }
        },
        "cef6a9f41da34eef995fe598ae02bebd": {
          "model_module": "@jupyter-widgets/base",
          "model_name": "LayoutModel",
          "model_module_version": "1.2.0",
          "state": {
            "_model_module": "@jupyter-widgets/base",
            "_model_module_version": "1.2.0",
            "_model_name": "LayoutModel",
            "_view_count": null,
            "_view_module": "@jupyter-widgets/base",
            "_view_module_version": "1.2.0",
            "_view_name": "LayoutView",
            "align_content": null,
            "align_items": null,
            "align_self": null,
            "border": null,
            "bottom": null,
            "display": null,
            "flex": null,
            "flex_flow": null,
            "grid_area": null,
            "grid_auto_columns": null,
            "grid_auto_flow": null,
            "grid_auto_rows": null,
            "grid_column": null,
            "grid_gap": null,
            "grid_row": null,
            "grid_template_areas": null,
            "grid_template_columns": null,
            "grid_template_rows": null,
            "height": null,
            "justify_content": null,
            "justify_items": null,
            "left": null,
            "margin": null,
            "max_height": null,
            "max_width": null,
            "min_height": null,
            "min_width": null,
            "object_fit": null,
            "object_position": null,
            "order": null,
            "overflow": null,
            "overflow_x": null,
            "overflow_y": null,
            "padding": null,
            "right": null,
            "top": null,
            "visibility": null,
            "width": null
          }
        },
        "11a6c924d04b405f907c72a156e20aed": {
          "model_module": "@jupyter-widgets/controls",
          "model_name": "DescriptionStyleModel",
          "model_module_version": "1.5.0",
          "state": {
            "_model_module": "@jupyter-widgets/controls",
            "_model_module_version": "1.5.0",
            "_model_name": "DescriptionStyleModel",
            "_view_count": null,
            "_view_module": "@jupyter-widgets/base",
            "_view_module_version": "1.2.0",
            "_view_name": "StyleView",
            "description_width": ""
          }
        },
        "771fc3d254b640489af22f7ddcbee3b6": {
          "model_module": "@jupyter-widgets/controls",
          "model_name": "TextareaModel",
          "model_module_version": "1.5.0",
          "state": {
            "_dom_classes": [],
            "_model_module": "@jupyter-widgets/controls",
            "_model_module_version": "1.5.0",
            "_model_name": "TextareaModel",
            "_view_count": null,
            "_view_module": "@jupyter-widgets/controls",
            "_view_module_version": "1.5.0",
            "_view_name": "TextareaView",
            "continuous_update": true,
            "description": "Prompt:",
            "description_tooltip": null,
            "disabled": false,
            "layout": "IPY_MODEL_1a90e5bc5aa24bb8945e9b5ff0e486ee",
            "placeholder": "​",
            "rows": null,
            "style": "IPY_MODEL_196d4d7f95554beb911c77a6a76443d8",
            "value": "what can you do to help test an api for generative ai applications?"
          }
        },
        "1a90e5bc5aa24bb8945e9b5ff0e486ee": {
          "model_module": "@jupyter-widgets/base",
          "model_name": "LayoutModel",
          "model_module_version": "1.2.0",
          "state": {
            "_model_module": "@jupyter-widgets/base",
            "_model_module_version": "1.2.0",
            "_model_name": "LayoutModel",
            "_view_count": null,
            "_view_module": "@jupyter-widgets/base",
            "_view_module_version": "1.2.0",
            "_view_name": "LayoutView",
            "align_content": null,
            "align_items": null,
            "align_self": null,
            "border": null,
            "bottom": null,
            "display": null,
            "flex": null,
            "flex_flow": null,
            "grid_area": null,
            "grid_auto_columns": null,
            "grid_auto_flow": null,
            "grid_auto_rows": null,
            "grid_column": null,
            "grid_gap": null,
            "grid_row": null,
            "grid_template_areas": null,
            "grid_template_columns": null,
            "grid_template_rows": null,
            "height": null,
            "justify_content": null,
            "justify_items": null,
            "left": null,
            "margin": null,
            "max_height": null,
            "max_width": null,
            "min_height": null,
            "min_width": null,
            "object_fit": null,
            "object_position": null,
            "order": null,
            "overflow": null,
            "overflow_x": null,
            "overflow_y": null,
            "padding": null,
            "right": null,
            "top": null,
            "visibility": null,
            "width": null
          }
        },
        "196d4d7f95554beb911c77a6a76443d8": {
          "model_module": "@jupyter-widgets/controls",
          "model_name": "DescriptionStyleModel",
          "model_module_version": "1.5.0",
          "state": {
            "_model_module": "@jupyter-widgets/controls",
            "_model_module_version": "1.5.0",
            "_model_name": "DescriptionStyleModel",
            "_view_count": null,
            "_view_module": "@jupyter-widgets/base",
            "_view_module_version": "1.2.0",
            "_view_name": "StyleView",
            "description_width": ""
          }
        },
        "32881827c50e46e69b9651bb4d425947": {
          "model_module": "@jupyter-widgets/controls",
          "model_name": "ButtonModel",
          "model_module_version": "1.5.0",
          "state": {
            "_dom_classes": [],
            "_model_module": "@jupyter-widgets/controls",
            "_model_module_version": "1.5.0",
            "_model_name": "ButtonModel",
            "_view_count": null,
            "_view_module": "@jupyter-widgets/controls",
            "_view_module_version": "1.5.0",
            "_view_name": "ButtonView",
            "button_style": "",
            "description": "Send Prompt",
            "disabled": false,
            "icon": "",
            "layout": "IPY_MODEL_84bcad033ebd45baaffa10ecd7d6192c",
            "style": "IPY_MODEL_0e49bcc80aa24b79a2f4aa2daddb9391",
            "tooltip": ""
          }
        },
        "84bcad033ebd45baaffa10ecd7d6192c": {
          "model_module": "@jupyter-widgets/base",
          "model_name": "LayoutModel",
          "model_module_version": "1.2.0",
          "state": {
            "_model_module": "@jupyter-widgets/base",
            "_model_module_version": "1.2.0",
            "_model_name": "LayoutModel",
            "_view_count": null,
            "_view_module": "@jupyter-widgets/base",
            "_view_module_version": "1.2.0",
            "_view_name": "LayoutView",
            "align_content": null,
            "align_items": null,
            "align_self": null,
            "border": null,
            "bottom": null,
            "display": null,
            "flex": null,
            "flex_flow": null,
            "grid_area": null,
            "grid_auto_columns": null,
            "grid_auto_flow": null,
            "grid_auto_rows": null,
            "grid_column": null,
            "grid_gap": null,
            "grid_row": null,
            "grid_template_areas": null,
            "grid_template_columns": null,
            "grid_template_rows": null,
            "height": null,
            "justify_content": null,
            "justify_items": null,
            "left": null,
            "margin": null,
            "max_height": null,
            "max_width": null,
            "min_height": null,
            "min_width": null,
            "object_fit": null,
            "object_position": null,
            "order": null,
            "overflow": null,
            "overflow_x": null,
            "overflow_y": null,
            "padding": null,
            "right": null,
            "top": null,
            "visibility": null,
            "width": null
          }
        },
        "0e49bcc80aa24b79a2f4aa2daddb9391": {
          "model_module": "@jupyter-widgets/controls",
          "model_name": "ButtonStyleModel",
          "model_module_version": "1.5.0",
          "state": {
            "_model_module": "@jupyter-widgets/controls",
            "_model_module_version": "1.5.0",
            "_model_name": "ButtonStyleModel",
            "_view_count": null,
            "_view_module": "@jupyter-widgets/base",
            "_view_module_version": "1.2.0",
            "_view_name": "StyleView",
            "button_color": null,
            "font_weight": ""
          }
        },
        "9a9e95ae20484483b9c91e5ad74d47ab": {
          "model_module": "@jupyter-widgets/output",
          "model_name": "OutputModel",
          "model_module_version": "1.0.0",
          "state": {
            "_dom_classes": [],
            "_model_module": "@jupyter-widgets/output",
            "_model_module_version": "1.0.0",
            "_model_name": "OutputModel",
            "_view_count": null,
            "_view_module": "@jupyter-widgets/output",
            "_view_module_version": "1.0.0",
            "_view_name": "OutputView",
            "layout": "IPY_MODEL_e2c4136ebdc945cbb396e153d2ac9abc",
            "msg_id": "",
            "outputs": [
              {
                "output_type": "stream",
                "name": "stdout",
                "text": [
                  "Sending prompt: what can you do to help test an api for generative ai applications?\n"
                ]
              },
              {
                "output_type": "stream",
                "name": "stdout",
                "text": [
                  "Prompt response time: 1.0799109935760498 seconds\n",
                  "{\n",
                  "    \"id\": \"37e37a07-f6f9-40a9-8781-3d00a73110c8\",\n",
                  "    \"model\": \"gpt-3.5-turbo\",\n",
                  "    \"object\": \"chat.completion\",\n",
                  "    \"created\": \"2023-12-15 19:13:41\",\n",
                  "    \"api\": \"openai\",\n",
                  "    \"prompt\": \"what can you do to help test an api for generative ai applications?\",\n",
                  "    \"usage\": {\n",
                  "        \"completion_tokens\": 100,\n",
                  "        \"prompt_tokens\": 22,\n",
                  "        \"total_tokens\": 122\n",
                  "    },\n",
                  "    \"choices\": [\n",
                  "        {\n",
                  "            \"prompt-id\": \"65a71404ca53d1f3b43e4ab4cbc75f2724e90424dbbf9066d70e133906e67ec9\",\n",
                  "            \"message\": {\n",
                  "                \"role\": \"assistant\",\n",
                  "                \"content\": \"To help test an API for generative AI applications, you can perform the following steps:\\n\\n1. Understand the API documentation: Start by thoroughly reading and understanding the API documentation provided by the generative AI application. This will give you insights into the available endpoints, request/response formats, authentication mechanisms, and any limitations or guidelines.\\n\\n2. Test basic functionality: Begin by testing the basic functionality of the API. This involves making simple requests to ensure that the API is accessible, responds correctly, and returns the\"\n",
                  "            },\n",
                  "            \"finish_reason\": \"length\",\n",
                  "            \"score\": 1.00000012,\n",
                  "            \"is_cached\": true,\n",
                  "            \"index\": 0\n",
                  "        }\n",
                  "    ]\n",
                  "}\n"
                ]
              }
            ]
          }
        },
        "e2c4136ebdc945cbb396e153d2ac9abc": {
          "model_module": "@jupyter-widgets/base",
          "model_name": "LayoutModel",
          "model_module_version": "1.2.0",
          "state": {
            "_model_module": "@jupyter-widgets/base",
            "_model_module_version": "1.2.0",
            "_model_name": "LayoutModel",
            "_view_count": null,
            "_view_module": "@jupyter-widgets/base",
            "_view_module_version": "1.2.0",
            "_view_name": "LayoutView",
            "align_content": null,
            "align_items": null,
            "align_self": null,
            "border": null,
            "bottom": null,
            "display": null,
            "flex": null,
            "flex_flow": null,
            "grid_area": null,
            "grid_auto_columns": null,
            "grid_auto_flow": null,
            "grid_auto_rows": null,
            "grid_column": null,
            "grid_gap": null,
            "grid_row": null,
            "grid_template_areas": null,
            "grid_template_columns": null,
            "grid_template_rows": null,
            "height": null,
            "justify_content": null,
            "justify_items": null,
            "left": null,
            "margin": null,
            "max_height": null,
            "max_width": null,
            "min_height": null,
            "min_width": null,
            "object_fit": null,
            "object_position": null,
            "order": null,
            "overflow": null,
            "overflow_x": null,
            "overflow_y": null,
            "padding": null,
            "right": null,
            "top": null,
            "visibility": null,
            "width": null
          }
        }
      }
    }
  },
  "nbformat": 4,
  "nbformat_minor": 5
}